{
 "cells": [
  {
   "cell_type": "code",
   "execution_count": null,
   "metadata": {},
   "outputs": [],
   "source": []
  },
  {
   "cell_type": "markdown",
   "metadata": {},
   "source": [
    "# k - Anonymity Analysis\r\n",
    "\r\n",
    "## a) Randomly generate a dataset (dataframe) with eight columns and 50,000 rows. Each column should be a categorical variable (of arbitrary name) with three levels (of arbitrary names) in approximately equal proportions."
   ]
  },
  {
   "cell_type": "code",
   "execution_count": 37,
   "metadata": {},
   "outputs": [
    {
     "name": "stdout",
     "output_type": "stream",
     "text": [
      "(50000, 8)\n"
     ]
    },
    {
     "data": {
      "text/html": [
       "<div>\n",
       "<style scoped>\n",
       "    .dataframe tbody tr th:only-of-type {\n",
       "        vertical-align: middle;\n",
       "    }\n",
       "\n",
       "    .dataframe tbody tr th {\n",
       "        vertical-align: top;\n",
       "    }\n",
       "\n",
       "    .dataframe thead th {\n",
       "        text-align: right;\n",
       "    }\n",
       "</style>\n",
       "<table border=\"1\" class=\"dataframe\">\n",
       "  <thead>\n",
       "    <tr style=\"text-align: right;\">\n",
       "      <th></th>\n",
       "      <th>A</th>\n",
       "      <th>B</th>\n",
       "      <th>C</th>\n",
       "      <th>I</th>\n",
       "      <th>J</th>\n",
       "      <th>K</th>\n",
       "      <th>X</th>\n",
       "      <th>Y</th>\n",
       "    </tr>\n",
       "  </thead>\n",
       "  <tbody>\n",
       "    <tr>\n",
       "      <th>0</th>\n",
       "      <td>a3</td>\n",
       "      <td>b2</td>\n",
       "      <td>c3</td>\n",
       "      <td>i3</td>\n",
       "      <td>j1</td>\n",
       "      <td>k3</td>\n",
       "      <td>x1</td>\n",
       "      <td>y3</td>\n",
       "    </tr>\n",
       "    <tr>\n",
       "      <th>1</th>\n",
       "      <td>a3</td>\n",
       "      <td>b1</td>\n",
       "      <td>c2</td>\n",
       "      <td>i3</td>\n",
       "      <td>j1</td>\n",
       "      <td>k3</td>\n",
       "      <td>x2</td>\n",
       "      <td>y1</td>\n",
       "    </tr>\n",
       "    <tr>\n",
       "      <th>2</th>\n",
       "      <td>a3</td>\n",
       "      <td>b2</td>\n",
       "      <td>c3</td>\n",
       "      <td>i1</td>\n",
       "      <td>j3</td>\n",
       "      <td>k1</td>\n",
       "      <td>x3</td>\n",
       "      <td>y2</td>\n",
       "    </tr>\n",
       "    <tr>\n",
       "      <th>3</th>\n",
       "      <td>a3</td>\n",
       "      <td>b2</td>\n",
       "      <td>c2</td>\n",
       "      <td>i3</td>\n",
       "      <td>j1</td>\n",
       "      <td>k2</td>\n",
       "      <td>x3</td>\n",
       "      <td>y3</td>\n",
       "    </tr>\n",
       "    <tr>\n",
       "      <th>4</th>\n",
       "      <td>a1</td>\n",
       "      <td>b1</td>\n",
       "      <td>c3</td>\n",
       "      <td>i3</td>\n",
       "      <td>j3</td>\n",
       "      <td>k1</td>\n",
       "      <td>x2</td>\n",
       "      <td>y2</td>\n",
       "    </tr>\n",
       "  </tbody>\n",
       "</table>\n",
       "</div>"
      ],
      "text/plain": [
       "    A   B   C   I   J   K   X   Y\n",
       "0  a3  b2  c3  i3  j1  k3  x1  y3\n",
       "1  a3  b1  c2  i3  j1  k3  x2  y1\n",
       "2  a3  b2  c3  i1  j3  k1  x3  y2\n",
       "3  a3  b2  c2  i3  j1  k2  x3  y3\n",
       "4  a1  b1  c3  i3  j3  k1  x2  y2"
      ]
     },
     "metadata": {},
     "output_type": "display_data"
    }
   ],
   "source": [
    "import pandas as pd\r\n",
    "import numpy as np\r\n",
    "\r\n",
    "dictionary = dict({\r\n",
    "    \"A\":[\"a1\",\"a2\",\"a3\"],\r\n",
    "    \"B\":[\"b1\",\"b2\",\"b3\"],\r\n",
    "    \"C\":[\"c1\",\"c2\",\"c3\"],\r\n",
    "    \"I\":[\"i1\",\"i2\",\"i3\"],\r\n",
    "    \"J\":[\"j1\",\"j2\",\"j3\"],\r\n",
    "    \"K\":[\"k1\",\"k2\",\"k3\"],\r\n",
    "    \"X\":[\"x1\",\"x2\",\"x3\"],\r\n",
    "    \"Y\":[\"y1\",\"y2\",\"y3\"]\r\n",
    "})\r\n",
    "\r\n",
    "np.random.seed(92)\r\n",
    "\r\n",
    "def categorical_df_from_dict(d: dict, size: int) -> pd.DataFrame:\r\n",
    "    \"\"\" Creates a dataframe with columns = d.keys, where each column is populated with values randomly sampled from d.values.\"\"\"\r\n",
    "\r\n",
    "    df = pd.DataFrame()\r\n",
    "\r\n",
    "    for key, val in d.items():\r\n",
    "\r\n",
    "        df[key] = np.random.choice(val, size)\r\n",
    "\r\n",
    "    return df\r\n",
    "\r\n",
    "df = categorical_df_from_dict(dictionary, size=50000)\r\n",
    "\r\n",
    "print(df.shape)\r\n",
    "display(df.head())"
   ]
  },
  {
   "cell_type": "markdown",
   "metadata": {},
   "source": [
    "## b) Verify that the proportions of each value are similar for each of the eight columns."
   ]
  },
  {
   "cell_type": "code",
   "execution_count": 38,
   "metadata": {},
   "outputs": [
    {
     "name": "stdout",
     "output_type": "stream",
     "text": [
      "['a1' 'a2' 'a3']\n",
      "[0.33406 0.33004 0.3359 ]\n",
      "['b1' 'b2' 'b3']\n",
      "[0.33304 0.33118 0.33578]\n",
      "['c1' 'c2' 'c3']\n",
      "[0.3289 0.3346 0.3365]\n",
      "['i1' 'i2' 'i3']\n",
      "[0.33328 0.33416 0.33256]\n",
      "['j1' 'j2' 'j3']\n",
      "[0.3339  0.33152 0.33458]\n",
      "['k1' 'k2' 'k3']\n",
      "[0.3345  0.33182 0.33368]\n",
      "['x1' 'x2' 'x3']\n",
      "[0.33586 0.33352 0.33062]\n",
      "['y1' 'y2' 'y3']\n",
      "[0.33464 0.33314 0.33222]\n"
     ]
    }
   ],
   "source": [
    "def verify_proportions(df: pd.DataFrame) -> None:\r\n",
    "    \"\"\" Prints the proportions of values in all columns in the dataframe df. \"\"\"\r\n",
    "    for col in df:\r\n",
    "        vals, counts = np.unique(df[col], return_counts=True)\r\n",
    "\r\n",
    "        print(vals)\r\n",
    "        print(counts/sum(counts))\r\n",
    "\r\n",
    "verify_proportions(df)"
   ]
  },
  {
   "cell_type": "markdown",
   "metadata": {},
   "source": [
    "## c) How many unique rows (i.e., permutations of category levels) are possible?"
   ]
  },
  {
   "cell_type": "code",
   "execution_count": 39,
   "metadata": {},
   "outputs": [
    {
     "name": "stdout",
     "output_type": "stream",
     "text": [
      "Total permutations: 6561\n"
     ]
    }
   ],
   "source": [
    "n = 3 # unique values in each column\r\n",
    "r = 8 # columns\r\n",
    "\r\n",
    "print(f\"Total permutations: {n**r}\")"
   ]
  },
  {
   "cell_type": "code",
   "execution_count": 40,
   "metadata": {},
   "outputs": [
    {
     "name": "stdout",
     "output_type": "stream",
     "text": [
      "['a1', 'b1', 'c1', 'i1', 'j1', 'k1', 'x1', 'y1']\n",
      "['a1', 'b1', 'c1', 'i1', 'j1', 'k1', 'x1', 'y2']\n",
      "['a1', 'b1', 'c1', 'i1', 'j1', 'k1', 'x1', 'y3']\n",
      "['a1', 'b1', 'c1', 'i1', 'j1', 'k1', 'x2', 'y1']\n",
      "['a1', 'b1', 'c1', 'i1', 'j1', 'k1', 'x2', 'y2']\n",
      "['a1', 'b1', 'c1', 'i1', 'j1', 'k1', 'x2', 'y3']\n",
      "['a1', 'b1', 'c1', 'i1', 'j1', 'k1', 'x3', 'y1']\n",
      "['a1', 'b1', 'c1', 'i1', 'j1', 'k1', 'x3', 'y2']\n",
      "['a1', 'b1', 'c1', 'i1', 'j1', 'k1', 'x3', 'y3']\n"
     ]
    }
   ],
   "source": [
    "import itertools\r\n",
    "\r\n",
    "def print_permutations(n: int) -> None:\r\n",
    "    \"\"\"\r\n",
    "    Prints the first n permutations from itertools.product and adds the letters so that the variables are labelled the same as defined in 1. a)\r\n",
    "    \"\"\"\r\n",
    "    for num, perm in enumerate(itertools.product('123', repeat=8)):\r\n",
    "        perm = list(perm)\r\n",
    "        letters = [\"a\",\"b\",\"c\",\"i\",\"j\",\"k\",\"x\",\"y\"]\r\n",
    "        for x, y in enumerate(perm):\r\n",
    "            perm[x] = letters[x]+y\r\n",
    "        print(perm)\r\n",
    "        if num >= n-1:\r\n",
    "            break\r\n",
    "\r\n",
    "print_permutations(n=9)"
   ]
  },
  {
   "cell_type": "markdown",
   "metadata": {},
   "source": [
    "## d) Produce a table and appropriate graph which show the frequencies (numbers of groups) by permutation group sizes up to group size of 12. That is, how many groups are unique combinations (group size = 1), how many groups are made up of a pair of matching combinations (group size = 2), how many groups are made up three the same, etc?"
   ]
  },
  {
   "cell_type": "code",
   "execution_count": 41,
   "metadata": {},
   "outputs": [
    {
     "data": {
      "text/plain": [
       "size\n",
       "1      31\n",
       "2      93\n",
       "3     235\n",
       "4     454\n",
       "5     651\n",
       "6     871\n",
       "7     977\n",
       "8     949\n",
       "9     751\n",
       "10    591\n",
       "11    375\n",
       "12    272\n",
       "Name: A, dtype: int64"
      ]
     },
     "metadata": {},
     "output_type": "display_data"
    }
   ],
   "source": [
    "unique_perms = (\r\n",
    "    df\r\n",
    "    .groupby(df.columns.tolist(), as_index=False)\r\n",
    "    .size()\r\n",
    "    .query(\"size <= 12\")\r\n",
    ")\r\n",
    "\r\n",
    "display(unique_perms.groupby('size').count().iloc[:,0])"
   ]
  },
  {
   "cell_type": "code",
   "execution_count": 42,
   "metadata": {},
   "outputs": [
    {
     "data": {
      "image/png": "[encoded data removed]",
      "text/plain": [
       "<Figure size 720x360 with 1 Axes>"
      ]
     },
     "metadata": {
      "needs_background": "light"
     },
     "output_type": "display_data"
    }
   ],
   "source": [
    "import matplotlib.pyplot as plt\r\n",
    "\r\n",
    "sizes = unique_perms.loc[:, \"size\"]\r\n",
    "\r\n",
    "def plot_frequency_hist(x: pd.Series) -> tuple:\r\n",
    "    \"\"\" Creates the frequency histogram plot of the series x. \"\"\" \r\n",
    "    fig, ax = plt.subplots(1, 1, figsize=(10,5))\r\n",
    "\r\n",
    "    # define bins and binwidth\r\n",
    "    bins = np.arange(min(x.unique()), min(x.unique()) + len(x.unique()) + 1)\r\n",
    "    binwidth = 0.8\r\n",
    "\r\n",
    "    # plot hist\r\n",
    "    plt.hist(x.values, bins=bins-0.5*binwidth, width=binwidth)\r\n",
    "\r\n",
    "    # formatting\r\n",
    "    ax.set_xlabel(\"Group Size\"); ax.set_ylabel(\"Frequency\")\r\n",
    "    ax.set_xlim([min(x.unique())-1,min(x.unique())+len(x.unique())])\r\n",
    "    ax.set_xticks(bins[:-1])\r\n",
    "    ax.set_xticklabels(labels=bins[:-1],rotation=45)\r\n",
    "\r\n",
    "    return fig, ax\r\n",
    "\r\n",
    "fig, ax = plot_frequency_hist(sizes)\r\n",
    "\r\n",
    "plt.show()"
   ]
  },
  {
   "cell_type": "markdown",
   "metadata": {},
   "source": [
    "## e) Comment upon the distribution of group sizes in d)."
   ]
  },
  {
   "cell_type": "code",
   "execution_count": 48,
   "metadata": {},
   "outputs": [
    {
     "ename": "AttributeError",
     "evalue": "'poisson_gen' object has no attribute 'fit'",
     "output_type": "error",
     "traceback": [
      "\u001b[1;31m---------------------------------------------------------------------------\u001b[0m",
      "\u001b[1;31mAttributeError\u001b[0m                            Traceback (most recent call last)",
      "\u001b[1;32m<ipython-input-48-ad0c481babd6>\u001b[0m in \u001b[0;36m<module>\u001b[1;34m\u001b[0m\n\u001b[0;32m     34\u001b[0m     \u001b[1;32mreturn\u001b[0m \u001b[0mfig\u001b[0m\u001b[1;33m,\u001b[0m \u001b[0max\u001b[0m\u001b[1;33m\u001b[0m\u001b[1;33m\u001b[0m\u001b[0m\n\u001b[0;32m     35\u001b[0m \u001b[1;33m\u001b[0m\u001b[0m\n\u001b[1;32m---> 36\u001b[1;33m \u001b[0mfig\u001b[0m\u001b[1;33m,\u001b[0m \u001b[0max\u001b[0m \u001b[1;33m=\u001b[0m \u001b[0mhist_fit\u001b[0m\u001b[1;33m(\u001b[0m\u001b[0msizes\u001b[0m\u001b[1;33m,\u001b[0m \u001b[0mdists\u001b[0m\u001b[1;33m=\u001b[0m\u001b[1;33m[\u001b[0m\u001b[1;34m'poisson'\u001b[0m\u001b[1;33m]\u001b[0m\u001b[1;33m)\u001b[0m\u001b[1;33m\u001b[0m\u001b[1;33m\u001b[0m\u001b[0m\n\u001b[0m\u001b[0;32m     37\u001b[0m \u001b[1;33m\u001b[0m\u001b[0m\n\u001b[0;32m     38\u001b[0m \u001b[0mplt\u001b[0m\u001b[1;33m.\u001b[0m\u001b[0mshow\u001b[0m\u001b[1;33m(\u001b[0m\u001b[1;33m)\u001b[0m\u001b[1;33m\u001b[0m\u001b[1;33m\u001b[0m\u001b[0m\n",
      "\u001b[1;32m<ipython-input-48-ad0c481babd6>\u001b[0m in \u001b[0;36mhist_fit\u001b[1;34m(x, dists)\u001b[0m\n\u001b[0;32m     19\u001b[0m \u001b[1;33m\u001b[0m\u001b[0m\n\u001b[0;32m     20\u001b[0m         \u001b[0mdist\u001b[0m \u001b[1;33m=\u001b[0m \u001b[0mgetattr\u001b[0m\u001b[1;33m(\u001b[0m\u001b[0mst\u001b[0m\u001b[1;33m,\u001b[0m \u001b[0mdist_name\u001b[0m\u001b[1;33m)\u001b[0m\u001b[1;33m\u001b[0m\u001b[1;33m\u001b[0m\u001b[0m\n\u001b[1;32m---> 21\u001b[1;33m         \u001b[0mparams\u001b[0m \u001b[1;33m=\u001b[0m \u001b[0mdist\u001b[0m\u001b[1;33m.\u001b[0m\u001b[0mfit\u001b[0m\u001b[1;33m(\u001b[0m\u001b[0mx\u001b[0m\u001b[1;33m)\u001b[0m\u001b[1;33m\u001b[0m\u001b[1;33m\u001b[0m\u001b[0m\n\u001b[0m\u001b[0;32m     22\u001b[0m \u001b[1;33m\u001b[0m\u001b[0m\n\u001b[0;32m     23\u001b[0m         \u001b[0mp\u001b[0m \u001b[1;33m=\u001b[0m \u001b[0mdist\u001b[0m\u001b[1;33m.\u001b[0m\u001b[0mpdf\u001b[0m\u001b[1;33m(\u001b[0m\u001b[0mxx\u001b[0m\u001b[1;33m,\u001b[0m \u001b[1;33m*\u001b[0m\u001b[0mparams\u001b[0m\u001b[1;33m)\u001b[0m\u001b[1;33m\u001b[0m\u001b[1;33m\u001b[0m\u001b[0m\n",
      "\u001b[1;31mAttributeError\u001b[0m: 'poisson_gen' object has no attribute 'fit'"
     ]
    },
    {
     "data": {
      "image/png": "[encoded data removed]",
      "text/plain": [
       "<Figure size 720x360 with 1 Axes>"
      ]
     },
     "metadata": {
      "needs_background": "light"
     },
     "output_type": "display_data"
    }
   ],
   "source": [
    "import scipy.stats as st\r\n",
    "\r\n",
    "def hist_fit(x: pd.Series, dists: list) -> tuple:\r\n",
    "    \"\"\" Creates density histogram plot with fitted distributions\"\"\" \r\n",
    "\r\n",
    "    fig, ax = plt.subplots(1, 1, figsize=(10,5))\r\n",
    "\r\n",
    "    # define bins and binwidth\r\n",
    "    bins = np.arange(min(x.unique()), min(x.unique()) + len(x.unique()) + 1)\r\n",
    "    binwidth = 0.8\r\n",
    "\r\n",
    "    # plot density\r\n",
    "    ax.hist(x.values, bins=bins - 0.5*binwidth,width=binwidth, density=True, label=\"Frequency Density\")\r\n",
    "\r\n",
    "    # experiment with other distributions by adding them to the list\r\n",
    "    for dist_name in dists:\r\n",
    "        xmin, xmax = ax.get_xlim()\r\n",
    "        xx = np.linspace(xmin, xmax, 100)\r\n",
    "\r\n",
    "        dist = getattr(st, dist_name)\r\n",
    "        params = dist.fit(x)\r\n",
    "\r\n",
    "        p = dist.pdf(xx, *params)\r\n",
    "        ax.plot(xx, p, linewidth=2, label=dist_name.title() + \" Distribution Fit\")\r\n",
    "\r\n",
    "    # formatting\r\n",
    "    ax.set_xlabel(\"Group Size\")\r\n",
    "    ax.set_ylabel(\"Density\")\r\n",
    "    ax.set_xlim([min(x.unique()) - 1, min(x.unique()) + 1 + len(x.unique())])\r\n",
    "    ax.set_xticks(bins[:-1])\r\n",
    "    ax.set_xticklabels(labels=bins[:-1], rotation=45)\r\n",
    "    plt.legend()\r\n",
    "\r\n",
    "    return fig, ax\r\n",
    "\r\n",
    "fig, ax = hist_fit(sizes, dists=['norm'])\r\n",
    "\r\n",
    "plt.show()"
   ]
  },
  {
   "cell_type": "markdown",
   "metadata": {},
   "source": [
    "## f) If your random variables were, in fact, meaningful information on individuals, which group sizes are of most concern from a privacy perspective?\r\n"
   ]
  },
  {
   "cell_type": "markdown",
   "metadata": {},
   "source": [
    "## g) Consider the effect of missing data in the dataset you created in 1 a). How might this complicate the production of a frequency table of group sizes in 1 d)?"
   ]
  },
  {
   "cell_type": "code",
   "execution_count": 46,
   "metadata": {},
   "outputs": [
    {
     "data": {
      "text/plain": [
       "size\n",
       "1    16799\n",
       "2     7076\n",
       "3     2145\n",
       "4      496\n",
       "5      105\n",
       "6       22\n",
       "7        3\n",
       "Name: A, dtype: int64"
      ]
     },
     "metadata": {},
     "output_type": "display_data"
    },
    {
     "data": {
      "image/png": "[encoded data removed]",
      "text/plain": [
       "<Figure size 720x360 with 1 Axes>"
      ]
     },
     "metadata": {
      "needs_background": "light"
     },
     "output_type": "display_data"
    }
   ],
   "source": [
    "def create_missing_values(df: pd.DataFrame, pct_missing: float=0.2) -> pd.DataFrame:\r\n",
    "    \"\"\" Chooses random rows and columns and replaces the values with np.nan until the desired portion of missing data is met. \"\"\"\r\n",
    "\r\n",
    "    n = int(pct_missing*df.shape[0]*df.shape[1])\r\n",
    "\r\n",
    "    # define all possible row/column index combinations\r\n",
    "    all_rc_pairs = np.array(list(itertools.product(range(0,len(df)), range(0,8))))\r\n",
    "\r\n",
    "    # randomly select a subset of size n (no replacement)\r\n",
    "    idx = np.random.choice(len(all_rc_pairs), replace=False, size=n)\r\n",
    "    subset_rc_pairs = all_rc_pairs[idx]\r\n",
    "\r\n",
    "    # replace with np.nan\r\n",
    "    for x, y in subset_rc_pairs:\r\n",
    "        df.iat[x, y] = np.nan\r\n",
    "\r\n",
    "    return df\r\n",
    "\r\n",
    "df_missing = categorical_df_from_dict(dictionary, size=50000)\r\n",
    "\r\n",
    "df_missing = create_missing_values(df_missing, pct_missing=0.20)\r\n",
    "\r\n",
    "missing_perms = (\r\n",
    "    df_missing\r\n",
    "    .groupby(df.columns.tolist(), as_index=False, dropna=False) # experiment with dropna=True/False\r\n",
    "    .size()\r\n",
    "    .query(\"size <= 12\")\r\n",
    ")\r\n",
    "\r\n",
    "sizes_missing = missing_perms.loc[:, \"size\"]\r\n",
    "\r\n",
    "display(missing_perms.groupby('size').count().iloc[:,0])\r\n",
    "\r\n",
    "fig, ax = plot_frequency_hist(sizes_missing)\r\n",
    "\r\n",
    "plt.show()"
   ]
  },
  {
   "cell_type": "markdown",
   "metadata": {},
   "source": [
    "## h) Imagine the code that you wrote for Part d) was to be deployed in an automated system that Mirador's customers could use independently, on potentially large volumes of their own data. Describe how you might deploy the code, and what additional considerations you might have or any changes to the code you might make. Note: it is not necessary to provide another version of the code created for d).\r\n"
   ]
  }
 ],
 "metadata": {
  "interpreter": {
   "hash": "b3ba2566441a7c06988d0923437866b63cedc61552a5af99d1f4fb67d367b25f"
  },
  "kernelspec": {
   "display_name": "Python 3.8.5 64-bit ('base': conda)",
   "name": "python3"
  },
  "language_info": {
   "codemirror_mode": {
    "name": "ipython",
    "version": 3
   },
   "file_extension": ".py",
   "mimetype": "text/x-python",
   "name": "python",
   "nbconvert_exporter": "python",
   "pygments_lexer": "ipython3",
   "version": "3.8.5"
  },
  "orig_nbformat": 2
 },
 "nbformat": 4,
 "nbformat_minor": 2
}