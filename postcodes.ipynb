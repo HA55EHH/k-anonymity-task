{
 "cells": [
  {
   "cell_type": "markdown",
   "metadata": {},
   "source": [
    "## Import Postcode Data"
   ]
  },
  {
   "cell_type": "code",
   "execution_count": null,
   "metadata": {},
   "outputs": [],
   "source": [
    "import pandas as pd \r\n",
    "\r\n",
    "postcodes = pd.read_csv(\"./postcodes.csv\")\r\n",
    "\r\n",
    "# show top 5 postcodes\r\n",
    "print(postcodes.head())\r\n",
    "\r\n",
    "# check postcode lengths\r\n",
    "print(f\"Postcode Lengths: {postcodes['Postcode'].apply(lambda s: len(s)).unique()}\")\r\n"
   ]
  },
  {
   "cell_type": "markdown",
   "metadata": {},
   "source": [
    "## Separate Outward, Inward and Area Codes"
   ]
  },
  {
   "cell_type": "code",
   "execution_count": null,
   "metadata": {},
   "outputs": [],
   "source": [
    "import re\r\n",
    "\r\n",
    "def split_postcode(s: str) -> tuple:\r\n",
    "    \"\"\"\r\n",
    "    Splits postcode into outward and inward.\r\n",
    "    \"\"\"\r\n",
    "    # replace double spaces in postcodes where area is only a single letter\r\n",
    "    s = s.replace(\"  \",\" \")\r\n",
    "\r\n",
    "    if \" \" not in s:\r\n",
    "        outward = s[:4]\r\n",
    "        inward = s[-3:]\r\n",
    "    elif \" \" in s:\r\n",
    "        outward, inward = s.split(\" \")\r\n",
    "\r\n",
    "    return outward, inward\r\n",
    "\r\n",
    "postcodes[[\"Outward\",\"Inward\"]] = postcodes.apply(lambda x: split_postcode(x[\"Postcode\"]), axis=1, result_type=\"expand\")\r\n",
    "\r\n",
    "# use regex to capture the first one or two letters in the outward code\r\n",
    "postcodes[\"Area\"] = postcodes[\"Outward\"].apply(lambda s: re.match(r\"([A-Z]{1,2})\", s).groups()[0])"
   ]
  },
  {
   "cell_type": "markdown",
   "metadata": {},
   "source": [
    "## Show Low Population Codes"
   ]
  },
  {
   "cell_type": "code",
   "execution_count": null,
   "metadata": {},
   "outputs": [],
   "source": [
    "outward_grouped = (\r\n",
    "    postcodes\r\n",
    "    .groupby(['Outward'])\r\n",
    "    .sum()\r\n",
    "    .sort_values('Total')\r\n",
    "    .reset_index()\r\n",
    ")\r\n",
    "\r\n",
    "area_grouped = (\r\n",
    "    postcodes\r\n",
    "    .groupby(['Area'])\r\n",
    "    .sum()\r\n",
    "    .sort_values('Total')\r\n",
    ")\r\n",
    "\r\n",
    "display(outward_grouped.query('Total < 20000'))\r\n",
    "display(area_grouped.query('Total < 20000'))"
   ]
  },
  {
   "cell_type": "markdown",
   "metadata": {},
   "source": [
    "## Mixed Outward-Area Approach"
   ]
  },
  {
   "cell_type": "code",
   "execution_count": null,
   "metadata": {},
   "outputs": [],
   "source": [
    "# find outward codes with small population\r\n",
    "bad_outward = outward_grouped.query(\"Total < 20000\")['Outward']\r\n",
    "\r\n",
    "# extract area code from bad_outward\r\n",
    "bad_outward_area = [re.match(r\"([A-Z]{1,2})\", s).groups()[0] for s in bad_outward]\r\n",
    "\r\n",
    "# create a dictionary from bad_outward and respective areas\r\n",
    "outward_area_dict = dict(zip(bad_outward, bad_outward_area))\r\n",
    "\r\n",
    "# outward codes with sufficient population map back to their original outward codes\r\n",
    "for outward_code in postcodes['Outward'].unique():\r\n",
    "    if outward_code not in outward_area_dict.keys():\r\n",
    "        outward_area_dict[outward_code] = outward_code\r\n",
    "\r\n",
    "# use dictionary to create new column called Outward_Area_Mix\r\n",
    "postcodes['Outward_Area_Mix'] = postcodes['Outward'].map(outward_area_dict)\r\n",
    "\r\n",
    "# show mixed approach where residents < 20000\r\n",
    "(postcodes\r\n",
    "    .groupby([\"Outward_Area_Mix\"])\r\n",
    "    .sum()\r\n",
    "    .sort_values('Outward_Area_Mix')\r\n",
    "    .query('Total < 20000')\r\n",
    "    .sort_values('Total')\r\n",
    ")"
   ]
  },
  {
   "cell_type": "markdown",
   "metadata": {},
   "source": [
    "## Outward Plot"
   ]
  },
  {
   "cell_type": "code",
   "execution_count": null,
   "metadata": {},
   "outputs": [],
   "source": [
    "import geopandas as gpd\r\n",
    "import matplotlib.patches as mpatches\r\n",
    "import matplotlib.pyplot as plt\r\n",
    "\r\n",
    "# import shape file\r\n",
    "outward_shpfile = (\"Distribution\\Districts.shp\")#\r\n",
    "outward_geo = gpd.read_file(outward_shpfile)\r\n",
    "\r\n",
    "# merge with outward_grouped\r\n",
    "outward_merged = outward_geo.merge(outward_grouped, left_on=\"name\", how=\"outer\", right_on=\"Outward\").fillna(0)\r\n",
    "\r\n",
    "# create plots\r\n",
    "fig, ax = plt.subplots(1,1,figsize=(25,25))\r\n",
    "outward_merged[outward_merged[\"Total\"] > 20000].plot(ax=ax, color=\"green\")\r\n",
    "outward_merged[outward_merged[\"Total\"].between(5001,20000)].plot(ax=ax, color=\"orange\")\r\n",
    "outward_merged[outward_merged['Total'].between(1,5000)].plot(ax=ax, color=\"red\")\r\n",
    "outward_merged[outward_merged[\"Total\"] == 0].plot(ax=ax, color=\"grey\", alpha=0.3)\r\n",
    "\r\n",
    "# show mirador for fun\r\n",
    "mirador_coords = outward_merged[outward_merged['name'].str.contains('TD9')].geometry.centroid[2545].coords[0]\r\n",
    "ax.annotate(text='Mirador Analytics', xy=mirador_coords,textcoords='offset pixels', xytext=(100,80), ha='center', color='black', arrowprops=dict(arrowstyle='-|>', facecolor='black'))\r\n",
    "\r\n",
    "# add legend\r\n",
    "red_patch = mpatches.Patch(color=\"red\", label=\"Population <= 5k\")\r\n",
    "orange_patch = mpatches.Patch(color=\"orange\", label=\"5k < Population <= 20k\")\r\n",
    "green_patch = mpatches.Patch(color=\"green\", label=\"Population > 20k\")\r\n",
    "grey_patch = mpatches.Patch(color=\"grey\", alpha=0.3, label=\"No Available Data\")\r\n",
    "plt.legend(handles=[red_patch, orange_patch, green_patch, grey_patch], bbox_to_anchor=(0.05, 0.98), loc='upper left')\r\n",
    "\r\n",
    "# hide ticks\r\n",
    "plt.xticks([]); plt.yticks([])\r\n",
    "\r\n",
    "plt.show()"
   ]
  },
  {
   "cell_type": "markdown",
   "metadata": {},
   "source": [
    "## Area Plot"
   ]
  },
  {
   "cell_type": "code",
   "execution_count": null,
   "metadata": {},
   "outputs": [],
   "source": [
    "# import shape file\r\n",
    "area_shpfile = (\"Distribution\\Areas.shp\")\r\n",
    "area_geo = gpd.read_file(area_shpfile)\r\n",
    "\r\n",
    "# merge with area_grouped\r\n",
    "area_merged = area_geo.merge(area_grouped, left_on=\"name\", how=\"outer\", right_on=\"Area\").fillna(0)\r\n",
    "\r\n",
    "# create plots\r\n",
    "fig, ax = plt.subplots(1,1,figsize=(25,25))\r\n",
    "\r\n",
    "area_merged[area_merged[\"Total\"] > 20000].plot(ax=ax, color=\"green\", edgecolor='white')\r\n",
    "area_merged[area_merged[\"Total\"].between(5001,20000)].plot(ax=ax, color=\"orange\", edgecolor='white')\r\n",
    "area_merged[area_merged['Total'].between(1,5000)].plot(ax=ax, color=\"red\", edgecolor='white')\r\n",
    "area_merged[area_merged[\"Total\"] == 0].plot(ax=ax, color=\"grey\", alpha=0.3, edgecolor='white')\r\n",
    "\r\n",
    "# annotate areas\r\n",
    "area_merged.apply(lambda x: ax.annotate(text=x['name'], xy=x.geometry.centroid.coords[0], ha='center', color=\"White\"),axis=1)\r\n",
    "\r\n",
    "# show mirador for fun\r\n",
    "mirador_coords = outward_merged[outward_merged['name'].str.contains('TD9')].geometry.centroid[2545].coords[0]\r\n",
    "ax.annotate(text='Mirador Analytics', xy=mirador_coords,textcoords='offset pixels', xytext=(100,80), ha='center', color='black', arrowprops=dict(arrowstyle='-|>', facecolor='black'))\r\n",
    "\r\n",
    "# add legend\r\n",
    "red_patch = mpatches.Patch(color=\"red\", label=\"Population <= 5k\")\r\n",
    "orange_patch = mpatches.Patch(color=\"orange\", label=\"5k < Population <= 20k\")\r\n",
    "green_patch = mpatches.Patch(color=\"green\", label=\"Population > 20k\")\r\n",
    "grey_patch = mpatches.Patch(color=\"grey\", alpha=0.3,  label=\"No Available Data\")\r\n",
    "plt.legend(handles=[red_patch, orange_patch, green_patch, grey_patch], bbox_to_anchor=(0.05, 0.98), loc='upper left')\r\n",
    "\r\n",
    "# hide ticks\r\n",
    "plt.xticks([]); plt.yticks([])\r\n",
    "\r\n",
    "plt.show()"
   ]
  },
  {
   "cell_type": "code",
   "execution_count": null,
   "metadata": {},
   "outputs": [],
   "source": []
  }
 ],
 "metadata": {
  "kernelspec": {
   "display_name": "Python 3.8.8 64-bit ('data_science_task': conda)",
   "name": "python388jvsc74a57bd046d6915150a9c522dfcb720ee1db42be890011c5d1acc6c3667ab7d2719106bc"
  },
  "language_info": {
   "codemirror_mode": {
    "name": "ipython",
    "version": 3
   },
   "file_extension": ".py",
   "mimetype": "text/x-python",
   "name": "python",
   "nbconvert_exporter": "python",
   "pygments_lexer": "ipython3",
   "version": "3.8.8"
  },
  "orig_nbformat": 2
 },
 "nbformat": 4,
 "nbformat_minor": 2
}